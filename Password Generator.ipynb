{
 "cells": [
  {
   "cell_type": "code",
   "execution_count": 4,
   "id": "fab64cc6",
   "metadata": {},
   "outputs": [
    {
     "name": "stdout",
     "output_type": "stream",
     "text": [
      "HE1hk0g~p30=\n"
     ]
    }
   ],
   "source": [
    "import random \n",
    "import array \n",
    "  \n",
    "MAX_LEN = 12\n",
    " \n",
    "DIGITS = ['0', '1', '2', '3', '4', '5', '6', '7', '8', '9']   \n",
    "LOCASE_CHARACTERS = ['a', 'b', 'c', 'd', 'e', 'f', 'g', 'h',  \n",
    "                     'i', 'j', 'k', 'm', 'n', 'o', 'p', 'q', \n",
    "                     'r', 's', 't', 'u', 'v', 'w', 'x', 'y', \n",
    "                     'z'] \n",
    "  \n",
    "UPCASE_CHARACTERS = ['A', 'B', 'C', 'D', 'E', 'F', 'G', 'H',  \n",
    "                     'I', 'J', 'K', 'M', 'N', 'O', 'P', 'Q', \n",
    "                     'R', 'S', 'T', 'U', 'V', 'W', 'X', 'Y', \n",
    "                     'Z'] \n",
    "  \n",
    "SYMBOLS = ['@', '#', '$', '%', '=', ':', '?', '.', '/', '|', '~', '>',  \n",
    "           '*', '(', ')', '<'] \n",
    "  \n",
    "\n",
    "COMBINED_LIST = DIGITS + UPCASE_CHARACTERS + LOCASE_CHARACTERS + SYMBOLS \n",
    "  \n",
    "\n",
    "rand_digit = random.choice(DIGITS) \n",
    "rand_upper = random.choice(UPCASE_CHARACTERS) \n",
    "rand_lower = random.choice(LOCASE_CHARACTERS) \n",
    "rand_symbol = random.choice(SYMBOLS) \n",
    "  \n",
    "\n",
    "temp_pass = rand_digit + rand_upper + rand_lower + rand_symbol \n",
    "  \n",
    "for x in range(MAX_LEN - 4): \n",
    "    temp_pass = temp_pass + random.choice(COMBINED_LIST) \n",
    "    temp_pass_list = array.array('u', temp_pass) \n",
    "    random.shuffle(temp_pass_list) \n",
    "  \n",
    " \n",
    "# to form the password \n",
    "password = \"\" \n",
    "for x in temp_pass_list: \n",
    "        password = password + x \n",
    "          \n",
    "# print out password \n",
    "print(password) "
   ]
  },
  {
   "cell_type": "code",
   "execution_count": null,
   "id": "eef1ff3e",
   "metadata": {},
   "outputs": [],
   "source": []
  }
 ],
 "metadata": {
  "kernelspec": {
   "display_name": "Python 3 (ipykernel)",
   "language": "python",
   "name": "python3"
  },
  "language_info": {
   "codemirror_mode": {
    "name": "ipython",
    "version": 3
   },
   "file_extension": ".py",
   "mimetype": "text/x-python",
   "name": "python",
   "nbconvert_exporter": "python",
   "pygments_lexer": "ipython3",
   "version": "3.10.9"
  }
 },
 "nbformat": 4,
 "nbformat_minor": 5
}
